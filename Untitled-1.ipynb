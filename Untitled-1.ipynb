{
 "cells": [
  {
   "cell_type": "code",
   "execution_count": null,
   "id": "71f25566",
   "metadata": {},
   "outputs": [
    {
     "name": "stdout",
     "output_type": "stream",
     "text": [
      "Output Matched: 10\n"
     ]
    }
   ],
   "source": [
    "import os\n",
    "\n",
    "def calculator(a, b, operation):\n",
    "    try:\n",
    "        if operation == '+':\n",
    "            return a + b\n",
    "        elif operation == '-':\n",
    "            return a - b\n",
    "        elif operation == '*':\n",
    "            return a * b\n",
    "        elif operation == '/':\n",
    "            return a / b\n",
    "        else:\n",
    "            return \"Invalid Operation\"\n",
    "    except Exception as e:\n",
    "        return f\"Error: {e}\"\n",
    "\n",
    "# Step 1: Take dynamic user input\n",
    "try:\n",
    "    a = int(input(\"Enter first number: \"))\n",
    "    b = int(input(\"Enter second number: \"))\n",
    "    operation = input(\"Enter operation (+, -, *, /): \").strip()\n",
    "except ValueError:\n",
    "    print(\" Invalid input. Please enter numbers.\")\n",
    "    exit()\n",
    "\n",
    "# Step 2: Perform calculation\n",
    "user_output = calculator(a, b, operation)\n",
    "\n",
    "# Step 3: Read expected output from your custom location\n",
    "expected_file_path = \"H:/Python/test1.txt\"\n",
    "\n",
    "if not os.path.exists(expected_file_path):\n",
    "    print(f\"File not found at {expected_file_path}\")\n",
    "    exit()\n",
    "\n",
    "with open(expected_file_path, 'r') as f:\n",
    "    expected_output = f.read().strip()\n",
    "\n",
    "# Step 4: Compare outputss\n",
    "if str(user_output) == expected_output:\n",
    "    print(f\"Output Matched: {user_output}\")\n",
    "else:\n",
    "    print(f\"Error: Output does not match.\\nYour Output: {user_output}\\nExpected: {expected_output}\")\n"
   ]
  },
  {
   "cell_type": "code",
   "execution_count": 4,
   "id": "5556b304",
   "metadata": {},
   "outputs": [],
   "source": [
    "import calculator as c"
   ]
  },
  {
   "cell_type": "code",
   "execution_count": 5,
   "id": "7a4c5123",
   "metadata": {},
   "outputs": [
    {
     "name": "stdout",
     "output_type": "stream",
     "text": [
      "12\n"
     ]
    }
   ],
   "source": [
    "c.add(3,9)"
   ]
  },
  {
   "cell_type": "code",
   "execution_count": null,
   "id": "361c8619",
   "metadata": {},
   "outputs": [],
   "source": []
  }
 ],
 "metadata": {
  "kernelspec": {
   "display_name": "Python 3",
   "language": "python",
   "name": "python3"
  },
  "language_info": {
   "codemirror_mode": {
    "name": "ipython",
    "version": 3
   },
   "file_extension": ".py",
   "mimetype": "text/x-python",
   "name": "python",
   "nbconvert_exporter": "python",
   "pygments_lexer": "ipython3",
   "version": "3.13.0"
  }
 },
 "nbformat": 4,
 "nbformat_minor": 5
}
